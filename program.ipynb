{
 "cells": [
  {
   "cell_type": "code",
   "execution_count": 1,
   "metadata": {},
   "outputs": [
    {
     "name": "stdout",
     "output_type": "stream",
     "text": [
      "The Mean arrival rate is 4.500 \n",
      "The Variance of arrival from feeder is 2.917 \n",
      "The Standard deviation of arrival from feeder is 1.708 \n"
     ]
    }
   ],
   "source": [
    "import numpy as np\n",
    "L=[int(i) for i in input().split()]\n",
    "N=len(L); M=max(L) \n",
    "x=list();f=list()\n",
    "for i in range (M+1):\n",
    "    c = 0\n",
    "    for j in range(N):\n",
    "        if L[j]==i:\n",
    "            c=c+1\n",
    "    f.append(c)\n",
    "    x.append(i)\n",
    "sf=np.sum(f)\n",
    "p=list()\n",
    "for i in range(M+1):\n",
    "    p.append(f[i]/sf) \n",
    "mean=np.inner(x,p)\n",
    "EX2=np.inner(np.square(x),p)\n",
    "var=EX2-mean**2 \n",
    "SD=np.sqrt(var)\n",
    "print(\"The Mean arrival rate is %.3f \"%mean)\n",
    "print(\"The Variance of arrival from feeder is %.3f \"%var) \n",
    "print(\"The Standard deviation of arrival from feeder is %.3F \"%SD)"
   ]
  }
 ],
 "metadata": {
  "kernelspec": {
   "display_name": "Python 3",
   "language": "python",
   "name": "python3"
  },
  "language_info": {
   "codemirror_mode": {
    "name": "ipython",
    "version": 3
   },
   "file_extension": ".py",
   "mimetype": "text/x-python",
   "name": "python",
   "nbconvert_exporter": "python",
   "pygments_lexer": "ipython3",
   "version": "3.11.5"
  }
 },
 "nbformat": 4,
 "nbformat_minor": 2
}
